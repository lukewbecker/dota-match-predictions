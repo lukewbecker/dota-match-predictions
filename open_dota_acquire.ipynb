{
 "cells": [
  {
   "cell_type": "code",
   "execution_count": 1,
   "metadata": {},
   "outputs": [],
   "source": [
    "# Practicing Getting data from open dota database"
   ]
  },
  {
   "cell_type": "code",
   "execution_count": 2,
   "metadata": {},
   "outputs": [
    {
     "ename": "SyntaxError",
     "evalue": "invalid syntax (<ipython-input-2-b29fff9f00ec>, line 1)",
     "output_type": "error",
     "traceback": [
      "\u001b[0;36m  File \u001b[0;32m\"<ipython-input-2-b29fff9f00ec>\"\u001b[0;36m, line \u001b[0;32m1\u001b[0m\n\u001b[0;31m    curl https://api.opendota.com/api/heroes > heroes.json\u001b[0m\n\u001b[0m             ^\u001b[0m\n\u001b[0;31mSyntaxError\u001b[0m\u001b[0;31m:\u001b[0m invalid syntax\n"
     ]
    }
   ],
   "source": [
    "curl https://api.opendota.com/api/heroes > heroes.json"
   ]
  },
  {
   "cell_type": "code",
   "execution_count": 3,
   "metadata": {},
   "outputs": [
    {
     "ename": "SyntaxError",
     "evalue": "invalid syntax (<ipython-input-3-bbb13bfa47e0>, line 1)",
     "output_type": "error",
     "traceback": [
      "\u001b[0;36m  File \u001b[0;32m\"<ipython-input-3-bbb13bfa47e0>\"\u001b[0;36m, line \u001b[0;32m1\u001b[0m\n\u001b[0;31m    curl http://api.opendota.com/teams/2163/matches/ > liquid_matches.json\u001b[0m\n\u001b[0m            ^\u001b[0m\n\u001b[0;31mSyntaxError\u001b[0m\u001b[0;31m:\u001b[0m invalid syntax\n"
     ]
    }
   ],
   "source": [
    "curl http://api.opendota.com/teams/2163/matches/ > liquid_matches.json"
   ]
  },
  {
   "cell_type": "code",
   "execution_count": null,
   "metadata": {},
   "outputs": [],
   "source": [
    "import json\n",
    "import time\n",
    "import requests\n",
    "\n",
    "input_file = open('liquid_matches.json') \n",
    "matches = json.load(input_file)\n",
    "input_file.close()\n",
    "print('Loading {} matches\\n'.format(len(matches)))\n",
    "\n",
    "f = open('liquid_match_data.txt', 'w')\n",
    "i = 0 \n",
    "for m in matches:\n",
    "    print('requseting match {}'.format(m['match_id']))\n",
    "    r = requests.get('https://api.opendota.com/api/matches/{}'.format(m['match_id']))\n",
    "    f.write(r.text)\n",
    "    f.write('\\n')\n",
    "    print(r.text)\n",
    "    time.sleep(5)\n",
    "    i += 1\n",
    "  \n",
    "    print('processed {} matches'.format(i))\n",
    "f.close()"
   ]
  },
  {
   "cell_type": "code",
   "execution_count": null,
   "metadata": {},
   "outputs": [],
   "source": []
  }
 ],
 "metadata": {
  "kernelspec": {
   "display_name": "Python 3",
   "language": "python",
   "name": "python3"
  },
  "language_info": {
   "codemirror_mode": {
    "name": "ipython",
    "version": 3
   },
   "file_extension": ".py",
   "mimetype": "text/x-python",
   "name": "python",
   "nbconvert_exporter": "python",
   "pygments_lexer": "ipython3",
   "version": "3.7.9"
  }
 },
 "nbformat": 4,
 "nbformat_minor": 4
}
